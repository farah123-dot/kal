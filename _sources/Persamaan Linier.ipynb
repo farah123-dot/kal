{
 "cells": [
  {
   "cell_type": "markdown",
   "metadata": {
    "id": "NfXJr3pZnxbK"
   },
   "source": [
    "# Sistem Persamaan Linier\n",
    "## A. Pengertian, Ciri - Ciri dan Jenis - Jenis Sistem Persamaan Linier <br>\n",
    "\n",
    "1. Definis Sistem Persamaan Linier<br>\n",
    "  Sitem Persamaan Linier adalah variabel yang mempuyai pangkat satu atau tidak lebih dan tidak mempunyai akar. Sistem Persamaan Linier bisa di artikan sebagai suatu persamaan aljabar.\n",
    "\n",
    "2. Ciri-ciri Sistem Persamaan Linier\n",
    "\n",
    "* Variabelnya hanya memiliki pangkat satu dan tidak lebih (tidak memiliki pangkat)\n",
    "* Variabelnya tidak memiliki akar\n",
    "\n",
    "3. Jenis-jenis Sistem Persamaan Linier\n",
    "* Persamaan Linier Satu Variabel\n",
    "Persamaan linier satu variabel adalah persamaan linier yang hanya memiliki satu variabel saja, contohnya\n",
    "```\n",
    "ax + b = 0\n",
    "```\n",
    "\n",
    "* Persamaan Linier Dua Variabel\n",
    "Persamaan linier dua variabel adalah persamaan linier yang memiliki dua variabel, contohnya\n",
    "```\n",
    "ax + by + c = 0\n",
    "```\n",
    "\n",
    "\n",
    "\n",
    "* Persamaan Linier Tiga Variabel\n",
    "Persamaan linier tiga variabel adalah persamaan linier yang memiliki tiga variabel, contohnya\n",
    "```\n",
    "ax + by + cz =0\n",
    "```\n",
    "\n",
    "\n",
    "\n"
   ]
  },
  {
   "cell_type": "markdown",
   "metadata": {
    "id": "U21Goaxxi9G0"
   },
   "source": [
    "## B. Solusi Penyelesaian Sistem Persamaan Linier <br>\n",
    "\n",
    "Berikut adalah beberapa solusi penyelesaian sistem persamaan linier.\n",
    "1. Penyelesaian Tunggal <br>\n",
    "Sistem persamaan linier dengan penyelesaian tunggal terjadi ketika persamaan-persamaan dalam sistem tersebut saling berpotongan di satu titik saja.\n",
    "\n",
    "* Syarat penyelesaian tunggal sebagai berikut : <br>\n",
    "a. Determinan matriks koefisien atau tidak nol. <br>\n",
    "b. Syarat penyelesaia tunggal.\n",
    "\n",
    "* Cara menyelesaikannya : <br>\n",
    "a. Metode Eliminasi : menghilangkan salah satu variabel dengan menjumlahkan atau mengurangkan kedua persamaan. <br>\n",
    "b. Metode Subtitusi : memecahkan salah satu persamaan untuk satu variabel, lalu mensubtituskannya ke persamaan lain. <br>\n",
    "c. Metode Matriks : menggunakan invers matriks koefisien untuk mencari nilai variabel. <br>\n",
    "\n",
    "\n"
   ]
  },
  {
   "cell_type": "markdown",
   "metadata": {
    "id": "NQtnC0XDEY7g"
   },
   "source": [
    "2. Tidak ada penyelesaian <br>\n",
    "Sistem persamaan linier tidak memiliki penyelesaian jika persamaan - persamaan daldam sistem tersebut merepretasikan garis-garis yang paralel dan tidak berpotongan.\n",
    "\n",
    "* Syarat tidak ada penyelesaian : <br>\n",
    "Sistem persamaan linier tidak memiliki penyelesaian jika determinan koefisien nol, tetapi konstanta pada ruas kanan tidak sebanding dengan koefisien variabel."
   ]
  },
  {
   "cell_type": "markdown",
   "metadata": {
    "id": "4ebpaq0ZHVqH"
   },
   "source": [
    "3. Banyak penyelesaian <br>\n",
    "Sistem persamaan linier memiliki banyak penyelesaian jika persamaan - persamaan dalam sistem tersebut merepresentasikan garis yang sama.\n",
    "\n",
    "* Syarat banyak penyelesaian : <br>\n",
    "a. Sistem persamaan linier memiliki banyak penyelesaian jika koefisien dan konstanta sebanding. <br>\n",
    "b. Secara geometris, kedua persamaan menggambarkan garis yang berhimpit, sehingga setiap titik pada garis tersebut merupakan solusi."
   ]
  },
  {
   "cell_type": "markdown",
   "metadata": {
    "id": "u20ayoV8MjUR"
   },
   "source": [
    "## Eliminasi\n",
    "Eliminasi adalah metode penyelesaian sistem persamaan linear dengan cara menghilangkan salah satu variabel.Dimana metode eliminasi secara garis besar akan menghapus atau menghilangkan satu variabel dalam persamaan tersebut. Metode ini dapat digunakan untuk menyelesaikan sistem persamaan linear dua variabel maupun tiga variabel.\n",
    "\n",
    "Langkah-langkah metode eliminasi yaitu : <br>\n",
    "a. Tentukan variabel yang akan dieliminasi<br>\n",
    "b. Samakan koefisien variabel yang akan dieliminasi<br>\n",
    "c. Jumlahkan atau kurangkan persamaan-persamaan untuk mengeliminasi variabel yang ditentukan <br>\n",
    "d. Gunakan persamaan yang baru untuk mencari nilai variabel yang belum diketahui\n"
   ]
  },
  {
   "cell_type": "markdown",
   "metadata": {
    "id": "PI6Hv4dcNVbl"
   },
   "source": [
    "### Eliminasi Gaus\n",
    "\n",
    "Eliminasi Gauss adalah metode untuk menyelesaikan sistem persamaan linear (SPL) dengan mengubah persamaan menjadi matriks. Metode ini ditemukan oleh matematikawan Jerman Carl Friedrich Gauss (1777-1855). Tujuan utamanya adalah untuk mempermudah proses substitusi mundur dalam mencari solusi persamaan. Eliminasi Gauss dapat digunakan untuk menentukan determinan matriks tanpa memiliki suatu persyaratan.\n"
   ]
  },
  {
   "cell_type": "markdown",
   "metadata": {},
   "source": [
    "<iframe scrolling=\"no\" title=\"Gaussian Elimination\" src=\"https://www.geogebra.org/material/iframe/id/vfzznbf3/width/1030/height/718/border/888888/sfsb/true/smb/false/stb/false/stbh/false/ai/false/asb/false/sri/false/rc/false/ld/false/sdz/false/ctl/false\" width=\"1030px\" height=\"718px\" style=\"border:0px;\"> </iframe>"
   ]
  },
  {
   "cell_type": "markdown",
   "metadata": {
    "id": "PVCmYhmxNl49"
   },
   "source": [
    "### Solusi Grafik\n",
    "\n",
    "Solusi grafik pada sistem persamaan linear adalah titik perpotongan kedua garis yang digambar dalam sistem koordinat yang sama.\n",
    "\n",
    "Berikut langkah-langkah menyelesaikan sistem persamaan linear dengan metode grafik:<br>\n",
    "a. Gambarkan kedua persamaan dalam sistem koordinat yang sama. <br>\n",
    "b. Tentukan titik potong salah satu persamaan linear dengan sumbu X atau sumbu Y. <br>\n",
    "c. Hubungkan kedua titik potong dengan garis lurus. <br>\n",
    "d. Lakukan langkah 1 dan 2 untuk persamaan lain. <br>\n",
    "e. Jika kedua garis berpotongan di (x,y) = (x1, y1), penyelesaian SPLD adalah x=x1 dan y=y1.\n"
   ]
  }
 ],
 "metadata": {
  "colab": {
   "authorship_tag": "ABX9TyNvdfg26QFeeVv1eG1J81Vo",
   "provenance": []
  },
  "kernelspec": {
   "display_name": "Python 3",
   "name": "python3"
  },
  "language_info": {
   "name": "python"
  }
 },
 "nbformat": 4,
 "nbformat_minor": 0
}
